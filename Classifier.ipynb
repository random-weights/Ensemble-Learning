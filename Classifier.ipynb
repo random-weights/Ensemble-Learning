{
 "cells": [
  {
   "cell_type": "markdown",
   "metadata": {},
   "source": [
    "#### Traditional flow:\n",
    "    1. Build a ANN\n",
    "    2. Train it on test set\n",
    "    3. Give an image as input and netowrk will predict the output.\n",
    "\n",
    "#### Ensemble Learning:\n",
    "    1. Build a ANN.\n",
    "    2. Make mulitple copies of ANN(in this example 5)\n",
    "    3. Train each ANN individual of others.\n",
    "    4. Give the same image to all copies of ANN and each ann will have its own prediction.\n",
    "    \n",
    "Suppose say there are n copies of the same network. we end up with n predictions from these n different copies for 1 image. How we make a final decision depends on the value of n.\n",
    "\n",
    "* If value of n is large, the value which most of the networks predicted is the final output.\n",
    "\n",
    "* If the value of n is small, we take a mean of these predictions and calcualte argmax to extract the class\n",
    "\n",
    "eg. for a particlar image from mnist dataset, the output from 5 different networks are:\n",
    "\n",
    "**[0.1  0.0  0.0  0.1  0.0  0.3  0.0  0.5  0.1  0.0  0.0]** argmax => predicted class = 7\n",
    "\n",
    "**[0.0  0.1  0.2  0.1  0.0  0.1  0.0  0.5  0.0  0.0  0.0]** argmax => predicted class = 7\n",
    "\n",
    "**[0.6  0.1  0.0  0.1  0.0  0.2  0.0  0.0  0.0  0.0  0.0]** argmax => predicted class = 0\n",
    "\n",
    "**[0.1  0.0  0.0  0.1  0.0  0.3  0.0  0.4  0.1  0.0  0.0]** argmax => predicted class = 7\n",
    "\n",
    "**[0.1  0.0  0.0  0.1  0.0  0.3  0.0  0.5  0.1  0.0  0.0]** argmax => predicted class = 7\n",
    "\n",
    "the mean of predictions looks like:\n",
    "\n",
    "**[0.18  0.04  0.08  0.10  0.12  0.12  0.18  0.38  0.06  0.00]** argmax => class = 7\n",
    "\n",
    "this is how the following example calculates predictions for ensemle network.\n",
    "\n",
    "Note that ensemble network need not be better than the best perfomring network in our bag of ensembles.\n"
   ]
  },
  {
   "cell_type": "code",
   "execution_count": 50,
   "metadata": {},
   "outputs": [],
   "source": [
    "%matplotlib inline\n",
    "import tensorflow as tf\n",
    "import matplotlib.pyplot as plt\n",
    "import numpy as np\n",
    "import pandas as pd"
   ]
  },
  {
   "cell_type": "markdown",
   "metadata": {},
   "source": [
    "### Helper function for retrieving data from csv\n",
    "\n"
   ]
  },
  {
   "cell_type": "code",
   "execution_count": 5,
   "metadata": {},
   "outputs": [],
   "source": [
    "class Data():\n",
    "    def __init__(self):\n",
    "        self.size = 0\n",
    "\n",
    "    def get_xdata(self,x_data_path):\n",
    "        df = pd.read_csv(x_data_path, sep=',', header=None)\n",
    "        a = np.array(df).astype(int)\n",
    "        self.size = len(df)\n",
    "        a = a.reshape(self.size,28,28)\n",
    "        self.x_data = a\n",
    "        return self.x_data\n",
    "\n",
    "    def get_ydata(self,y_data_path):\n",
    "        df = pd.read_csv(y_data_path,sep = ',',header = None)\n",
    "        b = np.array(df).astype(int)\n",
    "        b = b.reshape(len(df),10)\n",
    "        self.y_data = b\n",
    "        return self.y_data\n",
    "\n",
    "    def get_rand_batch(self,batch_size = None):\n",
    "        if batch_size is None:\n",
    "            b_size = 128\n",
    "        else:\n",
    "            b_size = batch_size\n",
    "\n",
    "        rand_indices = np.random.choice(self.size, b_size, replace=False)\n",
    "        x_batch = self.x_data[rand_indices]\n",
    "        self.x_batch = x_batch.reshape(b_size, 28, 28, 1)\n",
    "        self.y_batch = self.y_data[rand_indices]"
   ]
  },
  {
   "cell_type": "code",
   "execution_count": 52,
   "metadata": {},
   "outputs": [],
   "source": [
    "%%capture\n",
    "train_data = Data()\n",
    "train_data.get_xdata(\"data/x_train.csv\")\n",
    "train_data.get_xdata(\"data/x_train.csv\")"
   ]
  },
  {
   "cell_type": "code",
   "execution_count": 55,
   "metadata": {},
   "outputs": [
    {
     "data": {
      "image/png": "[encoded data removed]",
      "text/plain": [
       "<matplotlib.figure.Figure at 0x1dc04364358>"
      ]
     },
     "metadata": {},
     "output_type": "display_data"
    }
   ],
   "source": [
    "img = train_data.x_data[0].reshape(28,28)\n",
    "plt.imshow(img,cmap = 'binary')\n",
    "plt.axis(\"off\")\n",
    "plt.show()"
   ]
  },
  {
   "cell_type": "markdown",
   "metadata": {},
   "source": [
    "### Helper function to plot images and  show the true label, predicted,ensembled label on the bottom\n",
    "adapted from Hvass laboratories"
   ]
  },
  {
   "cell_type": "code",
   "execution_count": 44,
   "metadata": {},
   "outputs": [],
   "source": [
    "def plot_images(images,y_true_cls,y_pred_cls = None,y_ensemb_cls = None):\n",
    "    \n",
    "    # Create figure with 3x3 sub-plots.\n",
    "    fig, axes = plt.subplots(3, 3)\n",
    "\n",
    "    # Adjust vertical spacing if we need to print ensemble and best-net.\n",
    "    if y_ensemb_cls is None:\n",
    "        hspace = 1\n",
    "    else:\n",
    "        hspace = 1.0\n",
    "    fig.subplots_adjust(hspace=hspace, wspace=0.3)\n",
    "\n",
    "    # For each of the sub-plots.\n",
    "    for i, ax in enumerate(axes.flat):\n",
    "\n",
    "        # There may not be enough images for all sub-plots.\n",
    "        if i < len(images):\n",
    "            # Plot image.\n",
    "            ax.imshow(images[i].reshape(28,28), cmap='binary')\n",
    "\n",
    "            # Show true and predicted classes.\n",
    "            if (y_ensemb_cls is None):\n",
    "                if (y_pred_cls is None):\n",
    "                    xlabel = \"True: {0}\".format(y_true_cls[i])\n",
    "                else:\n",
    "                    msg = \"True: {0} \\nPredicted: {1}\"\n",
    "                    xlabel = msg.format(y_true_cls[i],y_pred_cls[i])\n",
    "            else:\n",
    "                msg = \"True: {0}\\nNetwork: {1}\\nEnsemble: {2}\"\n",
    "                xlabel = msg.format(y_true_cls[i],y_pred_cls[i],y_ensemb_cls[i])\n",
    "\n",
    "            # Show the classes as the label on the x-axis.\n",
    "            ax.set_xlabel(xlabel)\n",
    "        \n",
    "        # Remove ticks from the plot.\n",
    "        ax.set_xticks([])\n",
    "        ax.set_yticks([])\n",
    "    \n",
    "    # Ensure the plot is shown correctly with multiple plots\n",
    "    # in a single Notebook cell.\n",
    "    plt.show()"
   ]
  },
  {
   "cell_type": "markdown",
   "metadata": {},
   "source": [
    "## Now we will define our compuational graph\n",
    "\n",
    "\n",
    "![alt](https://github.com/thubatilakshmi/Ensemble-Learning/blob/master/network.JPG)\n",
    "\n",
    "Placeholders for input to graph"
   ]
  },
  {
   "cell_type": "code",
   "execution_count": 47,
   "metadata": {},
   "outputs": [],
   "source": [
    "x = tf.placeholder('float',shape = [None,28,28,1],name = \"x\")\n",
    "y_true = tf.placeholder('float',shape = [None,10],name = \"y_true\")"
   ]
  },
  {
   "cell_type": "code",
   "execution_count": 48,
   "metadata": {},
   "outputs": [],
   "source": [
    "y_true_cls = tf.argmax(y_true,axis = 1)"
   ]
  },
  {
   "cell_type": "markdown",
   "metadata": {},
   "source": []
  }
 ],
 "metadata": {
  "kernelspec": {
   "display_name": "Python 3",
   "language": "python",
   "name": "python3"
  },
  "language_info": {
   "codemirror_mode": {
    "name": "ipython",
    "version": 3
   },
   "file_extension": ".py",
   "mimetype": "text/x-python",
   "name": "python",
   "nbconvert_exporter": "python",
   "pygments_lexer": "ipython3",
   "version": "3.5.3"
  }
 },
 "nbformat": 4,
 "nbformat_minor": 2
}
