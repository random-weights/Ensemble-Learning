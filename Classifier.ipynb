{
 "cells": [
  {
   "cell_type": "code",
   "execution_count": 4,
   "metadata": {},
   "outputs": [],
   "source": [
    "%matplotlib inline\n",
    "import tensorflow as tf\n",
    "import matplotlib.pyplot as plt\n",
    "import numpy as np\n",
    "import pandas as pd"
   ]
  },
  {
   "cell_type": "markdown",
   "metadata": {},
   "source": [
    "### Helper function for retrieving data from csv\n",
    "\n"
   ]
  },
  {
   "cell_type": "code",
   "execution_count": 5,
   "metadata": {},
   "outputs": [],
   "source": [
    "class Data():\n",
    "    def __init__(self):\n",
    "        self.size = 0\n",
    "\n",
    "    def get_xdata(self,x_data_path):\n",
    "        df = pd.read_csv(x_data_path, sep=',', header=None)\n",
    "        a = np.array(df).astype(int)\n",
    "        self.size = len(df)\n",
    "        a = a.reshape(self.size,28,28)\n",
    "        self.x_data = a\n",
    "        return self.x_data\n",
    "\n",
    "    def get_ydata(self,y_data_path):\n",
    "        df = pd.read_csv(y_data_path,sep = ',',header = None)\n",
    "        b = np.array(df).astype(int)\n",
    "        b = b.reshape(len(df),10)\n",
    "        self.y_data = b\n",
    "        return self.y_data\n",
    "\n",
    "    def get_rand_batch(self,batch_size = None):\n",
    "        if batch_size is None:\n",
    "            b_size = 128\n",
    "        else:\n",
    "            b_size = batch_size\n",
    "\n",
    "        rand_indices = np.random.choice(self.size, b_size, replace=False)\n",
    "        x_batch = self.x_data[rand_indices]\n",
    "        self.x_batch = x_batch.reshape(b_size, 28, 28, 1)\n",
    "        self.y_batch = self.y_data[rand_indices]"
   ]
  },
  {
   "cell_type": "markdown",
   "metadata": {},
   "source": [
    "### Helper function to plot images and  show the true label, predicted,ensembled label on the bottom\n",
    "adapted from Hvass laboratories"
   ]
  },
  {
   "cell_type": "code",
   "execution_count": 44,
   "metadata": {},
   "outputs": [],
   "source": [
    "def plot_images(images,y_true_cls,y_pred_cls = None,y_ensemb_cls = None):\n",
    "    \n",
    "    # Create figure with 3x3 sub-plots.\n",
    "    fig, axes = plt.subplots(3, 3)\n",
    "\n",
    "    # Adjust vertical spacing if we need to print ensemble and best-net.\n",
    "    if y_ensemb_cls is None:\n",
    "        hspace = 1\n",
    "    else:\n",
    "        hspace = 1.0\n",
    "    fig.subplots_adjust(hspace=hspace, wspace=0.3)\n",
    "\n",
    "    # For each of the sub-plots.\n",
    "    for i, ax in enumerate(axes.flat):\n",
    "\n",
    "        # There may not be enough images for all sub-plots.\n",
    "        if i < len(images):\n",
    "            # Plot image.\n",
    "            ax.imshow(images[i].reshape(28,28), cmap='binary')\n",
    "\n",
    "            # Show true and predicted classes.\n",
    "            if (y_ensemb_cls is None):\n",
    "                if (y_pred_cls is None):\n",
    "                    xlabel = \"True: {0}\".format(y_true_cls[i])\n",
    "                else:\n",
    "                    msg = \"True: {0} \\nPredicted: {1}\"\n",
    "                    xlabel = msg.format(y_true_cls[i],y_pred_cls[i])\n",
    "            else:\n",
    "                msg = \"True: {0}\\nNetwork: {1}\\nEnsemble: {2}\"\n",
    "                xlabel = msg.format(y_true_cls[i],y_pred_cls[i],y_ensemb_cls[i])\n",
    "\n",
    "            # Show the classes as the label on the x-axis.\n",
    "            ax.set_xlabel(xlabel)\n",
    "        \n",
    "        # Remove ticks from the plot.\n",
    "        ax.set_xticks([])\n",
    "        ax.set_yticks([])\n",
    "    \n",
    "    # Ensure the plot is shown correctly with multiple plots\n",
    "    # in a single Notebook cell.\n",
    "    plt.show()"
   ]
  },
  {
   "cell_type": "markdown",
   "metadata": {},
   "source": [
    "## Now we will define our compuational graph\n",
    "\n",
    "Placeholders for input to graph"
   ]
  },
  {
   "cell_type": "code",
   "execution_count": 47,
   "metadata": {},
   "outputs": [],
   "source": [
    "x = tf.placeholder('float',shape = [None,28,28,1],name = \"x\")\n",
    "y_true = tf.placeholder('float',shape = [None,10],name = \"y_true\")"
   ]
  },
  {
   "cell_type": "code",
   "execution_count": 48,
   "metadata": {},
   "outputs": [],
   "source": [
    "y_true_cls = tf.argmax(y_true,axis = 1)"
   ]
  },
  {
   "cell_type": "code",
   "execution_count": null,
   "metadata": {},
   "outputs": [],
   "source": []
  }
 ],
 "metadata": {
  "kernelspec": {
   "display_name": "Python 3",
   "language": "python",
   "name": "python3"
  },
  "language_info": {
   "codemirror_mode": {
    "name": "ipython",
    "version": 3
   },
   "file_extension": ".py",
   "mimetype": "text/x-python",
   "name": "python",
   "nbconvert_exporter": "python",
   "pygments_lexer": "ipython3",
   "version": "3.5.3"
  }
 },
 "nbformat": 4,
 "nbformat_minor": 2
}
